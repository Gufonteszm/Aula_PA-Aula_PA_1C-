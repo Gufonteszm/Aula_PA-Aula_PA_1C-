{
  "nbformat": 4,
  "nbformat_minor": 0,
  "metadata": {
    "colab": {
      "provenance": [],
      "authorship_tag": "ABX9TyOo6KznrRnQYGS692vOaMxy",
      "include_colab_link": true
    },
    "kernelspec": {
      "name": "python3",
      "display_name": "Python 3"
    },
    "language_info": {
      "name": "python"
    }
  },
  "cells": [
    {
      "cell_type": "markdown",
      "metadata": {
        "id": "view-in-github",
        "colab_type": "text"
      },
      "source": [
        "<a href=\"https://colab.research.google.com/github/Gufonteszm/Aula_PA-Aula_PA_1C-/blob/main/vari%C3%A1veis_operadores.ipynb\" target=\"_parent\"><img src=\"https://colab.research.google.com/assets/colab-badge.svg\" alt=\"Open In Colab\"/></a>"
      ]
    },
    {
      "cell_type": "markdown",
      "source": [
        "DADOS,"
      ],
      "metadata": {
        "id": "-91VDCOfjkT5"
      }
    },
    {
      "cell_type": "code",
      "source": [
        "##entrada"
      ],
      "metadata": {
        "id": "XwbaYrRWg3Nl"
      },
      "execution_count": 37,
      "outputs": []
    },
    {
      "cell_type": "code",
      "source": [
        "celsius = float(input('digite a temperatura em celsius: '))"
      ],
      "metadata": {
        "colab": {
          "base_uri": "https://localhost:8080/"
        },
        "id": "5bmRrVwyiQLr",
        "outputId": "7d19d334-5684-46d7-d1c0-f417c01c3650"
      },
      "execution_count": 38,
      "outputs": [
        {
          "name": "stdout",
          "output_type": "stream",
          "text": [
            "digite a temperatura em celsius: 28\n"
          ]
        }
      ]
    },
    {
      "cell_type": "markdown",
      "source": [
        "CALCULO"
      ],
      "metadata": {
        "id": "92qRUQbGjnNO"
      }
    },
    {
      "cell_type": "code",
      "source": [
        "##processamento"
      ],
      "metadata": {
        "id": "HQqHtTHziZLr"
      },
      "execution_count": 39,
      "outputs": []
    },
    {
      "cell_type": "code",
      "source": [
        "fahrenheits = (celsius * 1.8) + 32"
      ],
      "metadata": {
        "id": "2STyAk77ib0w"
      },
      "execution_count": 40,
      "outputs": []
    },
    {
      "cell_type": "markdown",
      "source": [
        "RESULTADO"
      ],
      "metadata": {
        "id": "75kJ97bmjeU7"
      }
    },
    {
      "cell_type": "code",
      "source": [
        "##saida\n",
        "print(fahrenheits)"
      ],
      "metadata": {
        "colab": {
          "base_uri": "https://localhost:8080/"
        },
        "id": "jX6fSfjoilZ2",
        "outputId": "9cacc08f-deb7-4b04-d332-340e8f9a3711"
      },
      "execution_count": 44,
      "outputs": [
        {
          "output_type": "stream",
          "name": "stdout",
          "text": [
            "82.4\n"
          ]
        }
      ]
    },
    {
      "cell_type": "markdown",
      "source": [
        "EXERCÍCIO"
      ],
      "metadata": {
        "id": "mJHlXAaWkMsE"
      }
    },
    {
      "cell_type": "code",
      "source": [
        "##ENTRADA"
      ],
      "metadata": {
        "id": "sfsMj18dkSWN"
      },
      "execution_count": 45,
      "outputs": []
    },
    {
      "cell_type": "code",
      "source": [
        "valor = float(input('digite o valor do produto: '))"
      ],
      "metadata": {
        "colab": {
          "base_uri": "https://localhost:8080/"
        },
        "id": "9Ae8kLUxkaxB",
        "outputId": "01ad0248-805c-4c27-9d3f-2d58084d7d7c"
      },
      "execution_count": 46,
      "outputs": [
        {
          "name": "stdout",
          "output_type": "stream",
          "text": [
            "digite o valor do produto: 20\n"
          ]
        }
      ]
    },
    {
      "cell_type": "code",
      "source": [
        "qtde = int(input('digite a quantidade do produto: '))"
      ],
      "metadata": {
        "colab": {
          "base_uri": "https://localhost:8080/"
        },
        "id": "ukEBVjtgk39k",
        "outputId": "047edd86-bc5b-4ca8-934d-bb6a6ebb91dd"
      },
      "execution_count": 47,
      "outputs": [
        {
          "name": "stdout",
          "output_type": "stream",
          "text": [
            "digite a quantidade do produto: 5\n"
          ]
        }
      ]
    },
    {
      "cell_type": "code",
      "source": [
        "##processamento"
      ],
      "metadata": {
        "id": "PP0dXq8OlC5q"
      },
      "execution_count": 48,
      "outputs": []
    },
    {
      "cell_type": "code",
      "source": [
        "VT = valor * qtde"
      ],
      "metadata": {
        "id": "96m_w9uwlhi3"
      },
      "execution_count": 50,
      "outputs": []
    },
    {
      "cell_type": "code",
      "source": [
        "##saida"
      ],
      "metadata": {
        "id": "lHOt7HYhmmYt"
      },
      "execution_count": 51,
      "outputs": []
    },
    {
      "cell_type": "code",
      "source": [
        "print('VT = ', VT)"
      ],
      "metadata": {
        "colab": {
          "base_uri": "https://localhost:8080/"
        },
        "id": "6l8FCEeRmyli",
        "outputId": "bc0d21d6-45d0-4434-9bd9-0deb1eea32a4"
      },
      "execution_count": 56,
      "outputs": [
        {
          "output_type": "stream",
          "name": "stdout",
          "text": [
            "VT =  100.0\n"
          ]
        }
      ]
    },
    {
      "cell_type": "markdown",
      "source": [
        "EXERCÍCIO 2"
      ],
      "metadata": {
        "id": "8Azh-u8pnnDT"
      }
    },
    {
      "cell_type": "code",
      "source": [],
      "metadata": {
        "id": "7MYR4UGbntTa"
      },
      "execution_count": null,
      "outputs": []
    }
  ]
}