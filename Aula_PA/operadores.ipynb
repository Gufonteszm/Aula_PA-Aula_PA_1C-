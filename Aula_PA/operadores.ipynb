{
  "nbformat": 4,
  "nbformat_minor": 0,
  "metadata": {
    "colab": {
      "provenance": [],
      "authorship_tag": "ABX9TyOmZAMSyHs2Ko2PUtFgz7AH",
      "include_colab_link": true
    },
    "kernelspec": {
      "name": "python3",
      "display_name": "Python 3"
    },
    "language_info": {
      "name": "python"
    }
  },
  "cells": [
    {
      "cell_type": "markdown",
      "metadata": {
        "id": "view-in-github",
        "colab_type": "text"
      },
      "source": [
        "<a href=\"https://colab.research.google.com/github/Gufonteszm/Aula_PA-Aula_PA_1C-/blob/main/Aula_PA/operadores.ipynb\" target=\"_parent\"><img src=\"https://colab.research.google.com/assets/colab-badge.svg\" alt=\"Open In Colab\"/></a>"
      ]
    },
    {
      "cell_type": "code",
      "execution_count": 16,
      "metadata": {
        "colab": {
          "base_uri": "https://localhost:8080/"
        },
        "id": "a-vbNmvhxfwR",
        "outputId": "b11b8fb9-507d-4d26-a37f-b458e3e878de"
      },
      "outputs": [
        {
          "output_type": "execute_result",
          "data": {
            "text/plain": [
              "2"
            ]
          },
          "metadata": {},
          "execution_count": 16
        }
      ],
      "source": [
        "# Soma\n",
        "1+1"
      ]
    },
    {
      "cell_type": "code",
      "source": [
        "# Subtração\n",
        "1-1"
      ],
      "metadata": {
        "colab": {
          "base_uri": "https://localhost:8080/"
        },
        "id": "-H8_7DL7yCRF",
        "outputId": "9ec81b41-8ec6-4f71-ab08-d9973835aa75"
      },
      "execution_count": 4,
      "outputs": [
        {
          "output_type": "execute_result",
          "data": {
            "text/plain": [
              "0"
            ]
          },
          "metadata": {},
          "execution_count": 4
        }
      ]
    },
    {
      "cell_type": "code",
      "source": [
        "# Multiplicação\n",
        "1*7*8"
      ],
      "metadata": {
        "colab": {
          "base_uri": "https://localhost:8080/"
        },
        "id": "GiO4XDRxyNhe",
        "outputId": "b634d12b-37b1-4775-e509-8c6a2b21a3da"
      },
      "execution_count": 6,
      "outputs": [
        {
          "output_type": "execute_result",
          "data": {
            "text/plain": [
              "56"
            ]
          },
          "metadata": {},
          "execution_count": 6
        }
      ]
    },
    {
      "cell_type": "code",
      "source": [
        "# Divisão\n",
        "3000000/10000"
      ],
      "metadata": {
        "colab": {
          "base_uri": "https://localhost:8080/"
        },
        "id": "MpzfOzADyW6X",
        "outputId": "dc67014d-1de3-45e3-8f38-eb5f73eed2d9"
      },
      "execution_count": 12,
      "outputs": [
        {
          "output_type": "execute_result",
          "data": {
            "text/plain": [
              "300.0"
            ]
          },
          "metadata": {},
          "execution_count": 12
        }
      ]
    },
    {
      "cell_type": "code",
      "source": [
        "# Exponte\n",
        "2**0"
      ],
      "metadata": {
        "colab": {
          "base_uri": "https://localhost:8080/"
        },
        "id": "pkbEijV_zD_o",
        "outputId": "0788e9de-4ef9-41f2-d44d-26d83284dd4c"
      },
      "execution_count": 14,
      "outputs": [
        {
          "output_type": "execute_result",
          "data": {
            "text/plain": [
              "1"
            ]
          },
          "metadata": {},
          "execution_count": 14
        }
      ]
    },
    {
      "cell_type": "markdown",
      "source": [
        "  VARIÁVEIS"
      ],
      "metadata": {
        "id": "OnRLV6B2zqgy"
      }
    },
    {
      "cell_type": "code",
      "source": [
        "soma = 5+6"
      ],
      "metadata": {
        "id": "dlVnvZkc0zY0"
      },
      "execution_count": 20,
      "outputs": []
    },
    {
      "cell_type": "code",
      "source": [
        "print ('A soma é igual', soma)"
      ],
      "metadata": {
        "colab": {
          "base_uri": "https://localhost:8080/"
        },
        "id": "CVacoRBBzwx8",
        "outputId": "0b07647c-bd16-474e-88dc-be1379e7e2d8"
      },
      "execution_count": 22,
      "outputs": [
        {
          "output_type": "stream",
          "name": "stdout",
          "text": [
            "A soma é igual 11\n"
          ]
        }
      ]
    },
    {
      "cell_type": "code",
      "source": [
        "soma"
      ],
      "metadata": {
        "colab": {
          "base_uri": "https://localhost:8080/"
        },
        "id": "p5WcZpTO07k2",
        "outputId": "be4761b8-2c67-4d50-df9a-a3522eb3e7d5"
      },
      "execution_count": 23,
      "outputs": [
        {
          "output_type": "execute_result",
          "data": {
            "text/plain": [
              "11"
            ]
          },
          "metadata": {},
          "execution_count": 23
        }
      ]
    },
    {
      "cell_type": "code",
      "source": [
        "soma = soma + 2\n",
        "print ('a soma agora é ', soma)"
      ],
      "metadata": {
        "colab": {
          "base_uri": "https://localhost:8080/"
        },
        "id": "FAtAx8OQ085q",
        "outputId": "6797a175-211a-4f7f-ca20-702f9ec34317"
      },
      "execution_count": 57,
      "outputs": [
        {
          "output_type": "stream",
          "name": "stdout",
          "text": [
            "a soma agora é  63.1111111111101\n"
          ]
        }
      ]
    },
    {
      "cell_type": "code",
      "source": [
        "soma"
      ],
      "metadata": {
        "colab": {
          "base_uri": "https://localhost:8080/"
        },
        "id": "gSBCt7fE1KL_",
        "outputId": "d00c6d56-4033-4337-a7ad-3ceb4fddaa74"
      },
      "execution_count": 44,
      "outputs": [
        {
          "output_type": "execute_result",
          "data": {
            "text/plain": [
              "-52.333333333333336"
            ]
          },
          "metadata": {},
          "execution_count": 44
        }
      ]
    },
    {
      "cell_type": "code",
      "source": [
        "soma = soma -6\n",
        "print ('a soma agora tem', soma)"
      ],
      "metadata": {
        "colab": {
          "base_uri": "https://localhost:8080/"
        },
        "id": "4_DiaB0d2CzS",
        "outputId": "2b252c24-e7f2-4e8a-b9c6-0d18ace09702"
      },
      "execution_count": 43,
      "outputs": [
        {
          "output_type": "stream",
          "name": "stdout",
          "text": [
            "a soma agora tem -52.333333333333336\n"
          ]
        }
      ]
    },
    {
      "cell_type": "code",
      "source": [
        "soma = soma +2-5*8/2\n",
        "print ('a soma agora tem', soma)"
      ],
      "metadata": {
        "colab": {
          "base_uri": "https://localhost:8080/"
        },
        "id": "gpSWDcCs2lE8",
        "outputId": "53d39965-ea1d-4faa-df5c-5bb3c681a932"
      },
      "execution_count": 38,
      "outputs": [
        {
          "output_type": "stream",
          "name": "stdout",
          "text": [
            "a soma agora tem -22.333333333333336\n"
          ]
        }
      ]
    },
    {
      "cell_type": "markdown",
      "source": [
        "ATIVIDADE/SOMA 1"
      ],
      "metadata": {
        "id": "3z_xtWkJ3ZDk"
      }
    },
    {
      "cell_type": "code",
      "source": [
        "soma = soma +2*7+3\n",
        "print ('a soma agora tem', soma)"
      ],
      "metadata": {
        "colab": {
          "base_uri": "https://localhost:8080/"
        },
        "id": "SbkOndxw3a8Q",
        "outputId": "8aa970dc-ad8b-44b7-b295-c46789b43448"
      },
      "execution_count": 61,
      "outputs": [
        {
          "output_type": "stream",
          "name": "stdout",
          "text": [
            "a soma agora tem 80.11111111111009\n"
          ]
        }
      ]
    },
    {
      "cell_type": "code",
      "source": [
        "soma = 3"
      ],
      "metadata": {
        "id": "YuoUUz5p4KQJ"
      },
      "execution_count": 62,
      "outputs": []
    },
    {
      "cell_type": "code",
      "source": [
        "soma = soma =2*3*4*(3*8)\n",
        "print ('a soma agora tem', soma)"
      ],
      "metadata": {
        "colab": {
          "base_uri": "https://localhost:8080/"
        },
        "id": "-VE6Ir6l4OVa",
        "outputId": "620d42d4-17da-4604-c7f3-2f78aa65842a"
      },
      "execution_count": 66,
      "outputs": [
        {
          "output_type": "stream",
          "name": "stdout",
          "text": [
            "a soma agora tem 576\n"
          ]
        }
      ]
    },
    {
      "cell_type": "code",
      "source": [
        "soma = soma -2-4/(1-4-5/6)\n",
        "print ('a soma agora tem', soma)"
      ],
      "metadata": {
        "colab": {
          "base_uri": "https://localhost:8080/"
        },
        "id": "JEE2l8OS4ldN",
        "outputId": "a7e1d05f-083d-43cc-d7eb-82f00d525c34"
      },
      "execution_count": 69,
      "outputs": [
        {
          "output_type": "stream",
          "name": "stdout",
          "text": [
            "a soma agora tem 575.0434782608696\n"
          ]
        }
      ]
    },
    {
      "cell_type": "code",
      "source": [
        "soma = soma -574.0434782608696\n",
        "print ('a soma agora tem', soma)"
      ],
      "metadata": {
        "colab": {
          "base_uri": "https://localhost:8080/"
        },
        "id": "uFkNQePx442i",
        "outputId": "5da5f0f9-6d26-48ae-be61-82bc2022e46e"
      },
      "execution_count": 70,
      "outputs": [
        {
          "output_type": "stream",
          "name": "stdout",
          "text": [
            "a soma agora tem 1.0\n"
          ]
        }
      ]
    },
    {
      "cell_type": "code",
      "source": [
        "soma = soma +5*(2+2)\n",
        "print ('a soma agora tem', soma)"
      ],
      "metadata": {
        "colab": {
          "base_uri": "https://localhost:8080/"
        },
        "id": "wkUd6soF5Nhf",
        "outputId": "60a9daa4-6e2d-431b-f102-7c8407054436"
      },
      "execution_count": 71,
      "outputs": [
        {
          "output_type": "stream",
          "name": "stdout",
          "text": [
            "a soma agora tem 21.0\n"
          ]
        }
      ]
    },
    {
      "cell_type": "code",
      "source": [
        "soma = soma **2\n",
        "print ('a soma agora tem', soma)"
      ],
      "metadata": {
        "colab": {
          "base_uri": "https://localhost:8080/"
        },
        "id": "41T1zcsE5h1X",
        "outputId": "bd092cf4-cb5c-43d0-f045-c2afc6a7dadf"
      },
      "execution_count": 75,
      "outputs": [
        {
          "output_type": "stream",
          "name": "stdout",
          "text": [
            "a soma agora tem 36481.0\n"
          ]
        }
      ]
    },
    {
      "cell_type": "code",
      "source": [
        "soma = soma -320+4\n",
        "print ('a soma agora tem', soma)"
      ],
      "metadata": {
        "colab": {
          "base_uri": "https://localhost:8080/"
        },
        "id": "8ON6DDxh5qQX",
        "outputId": "f486507f-bb92-4f65-8e20-89a07b4db32c"
      },
      "execution_count": 76,
      "outputs": [
        {
          "output_type": "stream",
          "name": "stdout",
          "text": [
            "a soma agora tem 36165.0\n"
          ]
        }
      ]
    },
    {
      "cell_type": "markdown",
      "source": [
        "ÁREA DO QUADRADO"
      ],
      "metadata": {
        "id": "znsZuIpF6bWR"
      }
    },
    {
      "cell_type": "code",
      "source": [
        "# calcular área do quadrado6"
      ],
      "metadata": {
        "id": "R8RrenCy57EX"
      },
      "execution_count": 91,
      "outputs": []
    },
    {
      "cell_type": "code",
      "source": [
        "##ENTRADA\n",
        "lado = float(input('digite o lado do quadrado'))\n",
        "\n",
        "##PROCESSAMENTO\n",
        "area = lado * lado\n",
        "\n",
        "##SAÍDA\n",
        "print ('a area do quadrado é', area, 'cm2')\n",
        "\n"
      ],
      "metadata": {
        "colab": {
          "base_uri": "https://localhost:8080/"
        },
        "id": "9aX401CG6Rmn",
        "outputId": "60f6fd33-6581-4581-beea-df6fd3135468"
      },
      "execution_count": 92,
      "outputs": [
        {
          "output_type": "stream",
          "name": "stdout",
          "text": [
            "digite o lado do quadrado6\n",
            "a area do quadrado é 36.0 cm2\n"
          ]
        }
      ]
    }
  ]
}