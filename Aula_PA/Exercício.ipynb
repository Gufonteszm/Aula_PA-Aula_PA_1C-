{
  "nbformat": 4,
  "nbformat_minor": 0,
  "metadata": {
    "colab": {
      "provenance": [],
      "authorship_tag": "ABX9TyOMZFTbHnZW9g9HjDJRs3SL",
      "include_colab_link": true
    },
    "kernelspec": {
      "name": "python3",
      "display_name": "Python 3"
    },
    "language_info": {
      "name": "python"
    }
  },
  "cells": [
    {
      "cell_type": "markdown",
      "metadata": {
        "id": "view-in-github",
        "colab_type": "text"
      },
      "source": [
        "<a href=\"https://colab.research.google.com/github/Gufonteszm/Aula_PA-Aula_PA_1C-/blob/main/Aula_PA/Exerc%C3%ADcio.ipynb\" target=\"_parent\"><img src=\"https://colab.research.google.com/assets/colab-badge.svg\" alt=\"Open In Colab\"/></a>"
      ]
    },
    {
      "cell_type": "markdown",
      "source": [
        "SOMA"
      ],
      "metadata": {
        "id": "2eKj_cpuCL44"
      }
    },
    {
      "cell_type": "code",
      "source": [
        "num1 = 2"
      ],
      "metadata": {
        "id": "1BHj45zj_N1N"
      },
      "execution_count": 9,
      "outputs": []
    },
    {
      "cell_type": "code",
      "source": [
        "num2 = 3"
      ],
      "metadata": {
        "id": "YUHYg6Z6_THA"
      },
      "execution_count": 8,
      "outputs": []
    },
    {
      "cell_type": "code",
      "source": [
        "soma = num1 +2\n",
        "print ('a soma agora tem', soma)"
      ],
      "metadata": {
        "colab": {
          "base_uri": "https://localhost:8080/"
        },
        "id": "b0wkZs4l_Vzu",
        "outputId": "1fc82a54-412e-4c11-de29-7b207c380300"
      },
      "execution_count": 15,
      "outputs": [
        {
          "output_type": "stream",
          "name": "stdout",
          "text": [
            "a soma agora tem 4\n"
          ]
        }
      ]
    },
    {
      "cell_type": "code",
      "source": [
        "soma = num2 + 17\n",
        "print ('a soma agora tem', soma)"
      ],
      "metadata": {
        "colab": {
          "base_uri": "https://localhost:8080/"
        },
        "id": "MV8IL3Rf_pMB",
        "outputId": "02dacf46-ee58-4d07-d658-238643919ad2"
      },
      "execution_count": 18,
      "outputs": [
        {
          "output_type": "stream",
          "name": "stdout",
          "text": [
            "a soma agora tem 20\n"
          ]
        }
      ]
    },
    {
      "cell_type": "code",
      "source": [
        "##ENTRADA"
      ],
      "metadata": {
        "id": "ogb6Y1qh_5yM"
      },
      "execution_count": 19,
      "outputs": []
    },
    {
      "cell_type": "code",
      "source": [
        "num1"
      ],
      "metadata": {
        "colab": {
          "base_uri": "https://localhost:8080/"
        },
        "id": "dLS8JnLxBr-O",
        "outputId": "2108ee88-6a5c-4924-aec7-a4a841e7f3d2"
      },
      "execution_count": 36,
      "outputs": [
        {
          "output_type": "execute_result",
          "data": {
            "text/plain": [
              "2"
            ]
          },
          "metadata": {},
          "execution_count": 36
        }
      ]
    },
    {
      "cell_type": "code",
      "source": [
        "num2"
      ],
      "metadata": {
        "colab": {
          "base_uri": "https://localhost:8080/"
        },
        "id": "Ic8dsZpOB1Kc",
        "outputId": "2118b84d-28b6-4a6d-87e3-ecb1a2842c5b"
      },
      "execution_count": 37,
      "outputs": [
        {
          "output_type": "execute_result",
          "data": {
            "text/plain": [
              "3"
            ]
          },
          "metadata": {},
          "execution_count": 37
        }
      ]
    },
    {
      "cell_type": "code",
      "source": [
        "##processamento\n",
        "soma = num1 + num2"
      ],
      "metadata": {
        "id": "uOx-UZxhAYBp"
      },
      "execution_count": 22,
      "outputs": []
    },
    {
      "cell_type": "code",
      "source": [
        "##saida"
      ],
      "metadata": {
        "id": "F5-48qs6Akb9"
      },
      "execution_count": 23,
      "outputs": []
    },
    {
      "cell_type": "code",
      "source": [
        "print ('a soma agora tem', soma)"
      ],
      "metadata": {
        "colab": {
          "base_uri": "https://localhost:8080/"
        },
        "id": "R_cpSFnTAnQg",
        "outputId": "b8243ffa-c1bf-4057-d225-7415840d320a"
      },
      "execution_count": 24,
      "outputs": [
        {
          "output_type": "stream",
          "name": "stdout",
          "text": [
            "a soma agora tem 5\n"
          ]
        }
      ]
    },
    {
      "cell_type": "code",
      "source": [
        "soma = num1 +3 +num2 +4\n",
        "print ('a soma agora tem', soma)"
      ],
      "metadata": {
        "colab": {
          "base_uri": "https://localhost:8080/"
        },
        "id": "2UtrXRc8CQSc",
        "outputId": "7f0f26c2-5159-43ce-aa08-457a5a66e4b0"
      },
      "execution_count": 44,
      "outputs": [
        {
          "output_type": "stream",
          "name": "stdout",
          "text": [
            "a soma agora tem 12\n"
          ]
        }
      ]
    },
    {
      "cell_type": "code",
      "source": [
        "soma = +2+num1+num2\n",
        "print ('a soma agora tem', soma)"
      ],
      "metadata": {
        "colab": {
          "base_uri": "https://localhost:8080/"
        },
        "id": "fhNdE6C4Cgv8",
        "outputId": "c0cb97e5-f882-4282-8997-4e730825fe5a"
      },
      "execution_count": 46,
      "outputs": [
        {
          "output_type": "stream",
          "name": "stdout",
          "text": [
            "a soma agora tem 7\n"
          ]
        }
      ]
    }
  ]
}